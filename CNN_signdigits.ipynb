{
  "nbformat": 4,
  "nbformat_minor": 0,
  "metadata": {
    "colab": {
      "provenance": [],
      "authorship_tag": "ABX9TyM2BzuIkRAfOX+Bm46/kl1n"
    },
    "kernelspec": {
      "name": "python3",
      "display_name": "Python 3"
    },
    "language_info": {
      "name": "python"
    }
  },
  "cells": [
    {
      "cell_type": "code",
      "execution_count": 4,
      "metadata": {
        "colab": {
          "base_uri": "https://localhost:8080/"
        },
        "id": "agRR6ZiYdocP",
        "outputId": "2c626e1d-e748-4510-8fc4-71ff58577c81"
      },
      "outputs": [
        {
          "output_type": "stream",
          "name": "stdout",
          "text": [
            "Requirement already satisfied: numpy in /usr/local/lib/python3.11/dist-packages (1.26.4)\n",
            "Requirement already satisfied: h5py in /usr/local/lib/python3.11/dist-packages (3.12.1)\n",
            "Requirement already satisfied: tensorflow in /usr/local/lib/python3.11/dist-packages (2.17.1)\n",
            "Requirement already satisfied: absl-py>=1.0.0 in /usr/local/lib/python3.11/dist-packages (from tensorflow) (1.4.0)\n",
            "Requirement already satisfied: astunparse>=1.6.0 in /usr/local/lib/python3.11/dist-packages (from tensorflow) (1.6.3)\n",
            "Requirement already satisfied: flatbuffers>=24.3.25 in /usr/local/lib/python3.11/dist-packages (from tensorflow) (24.12.23)\n",
            "Requirement already satisfied: gast!=0.5.0,!=0.5.1,!=0.5.2,>=0.2.1 in /usr/local/lib/python3.11/dist-packages (from tensorflow) (0.6.0)\n",
            "Requirement already satisfied: google-pasta>=0.1.1 in /usr/local/lib/python3.11/dist-packages (from tensorflow) (0.2.0)\n",
            "Requirement already satisfied: libclang>=13.0.0 in /usr/local/lib/python3.11/dist-packages (from tensorflow) (18.1.1)\n",
            "Requirement already satisfied: ml-dtypes<0.5.0,>=0.3.1 in /usr/local/lib/python3.11/dist-packages (from tensorflow) (0.4.1)\n",
            "Requirement already satisfied: opt-einsum>=2.3.2 in /usr/local/lib/python3.11/dist-packages (from tensorflow) (3.4.0)\n",
            "Requirement already satisfied: packaging in /usr/local/lib/python3.11/dist-packages (from tensorflow) (24.2)\n",
            "Requirement already satisfied: protobuf!=4.21.0,!=4.21.1,!=4.21.2,!=4.21.3,!=4.21.4,!=4.21.5,<5.0.0dev,>=3.20.3 in /usr/local/lib/python3.11/dist-packages (from tensorflow) (4.25.5)\n",
            "Requirement already satisfied: requests<3,>=2.21.0 in /usr/local/lib/python3.11/dist-packages (from tensorflow) (2.32.3)\n",
            "Requirement already satisfied: setuptools in /usr/local/lib/python3.11/dist-packages (from tensorflow) (75.1.0)\n",
            "Requirement already satisfied: six>=1.12.0 in /usr/local/lib/python3.11/dist-packages (from tensorflow) (1.17.0)\n",
            "Requirement already satisfied: termcolor>=1.1.0 in /usr/local/lib/python3.11/dist-packages (from tensorflow) (2.5.0)\n",
            "Requirement already satisfied: typing-extensions>=3.6.6 in /usr/local/lib/python3.11/dist-packages (from tensorflow) (4.12.2)\n",
            "Requirement already satisfied: wrapt>=1.11.0 in /usr/local/lib/python3.11/dist-packages (from tensorflow) (1.17.0)\n",
            "Requirement already satisfied: grpcio<2.0,>=1.24.3 in /usr/local/lib/python3.11/dist-packages (from tensorflow) (1.69.0)\n",
            "Requirement already satisfied: tensorboard<2.18,>=2.17 in /usr/local/lib/python3.11/dist-packages (from tensorflow) (2.17.1)\n",
            "Requirement already satisfied: keras>=3.2.0 in /usr/local/lib/python3.11/dist-packages (from tensorflow) (3.5.0)\n",
            "Requirement already satisfied: tensorflow-io-gcs-filesystem>=0.23.1 in /usr/local/lib/python3.11/dist-packages (from tensorflow) (0.37.1)\n",
            "Requirement already satisfied: wheel<1.0,>=0.23.0 in /usr/local/lib/python3.11/dist-packages (from astunparse>=1.6.0->tensorflow) (0.45.1)\n",
            "Requirement already satisfied: rich in /usr/local/lib/python3.11/dist-packages (from keras>=3.2.0->tensorflow) (13.9.4)\n",
            "Requirement already satisfied: namex in /usr/local/lib/python3.11/dist-packages (from keras>=3.2.0->tensorflow) (0.0.8)\n",
            "Requirement already satisfied: optree in /usr/local/lib/python3.11/dist-packages (from keras>=3.2.0->tensorflow) (0.13.1)\n",
            "Requirement already satisfied: charset-normalizer<4,>=2 in /usr/local/lib/python3.11/dist-packages (from requests<3,>=2.21.0->tensorflow) (3.4.1)\n",
            "Requirement already satisfied: idna<4,>=2.5 in /usr/local/lib/python3.11/dist-packages (from requests<3,>=2.21.0->tensorflow) (3.10)\n",
            "Requirement already satisfied: urllib3<3,>=1.21.1 in /usr/local/lib/python3.11/dist-packages (from requests<3,>=2.21.0->tensorflow) (2.3.0)\n",
            "Requirement already satisfied: certifi>=2017.4.17 in /usr/local/lib/python3.11/dist-packages (from requests<3,>=2.21.0->tensorflow) (2024.12.14)\n",
            "Requirement already satisfied: markdown>=2.6.8 in /usr/local/lib/python3.11/dist-packages (from tensorboard<2.18,>=2.17->tensorflow) (3.7)\n",
            "Requirement already satisfied: tensorboard-data-server<0.8.0,>=0.7.0 in /usr/local/lib/python3.11/dist-packages (from tensorboard<2.18,>=2.17->tensorflow) (0.7.2)\n",
            "Requirement already satisfied: werkzeug>=1.0.1 in /usr/local/lib/python3.11/dist-packages (from tensorboard<2.18,>=2.17->tensorflow) (3.1.3)\n",
            "Requirement already satisfied: MarkupSafe>=2.1.1 in /usr/local/lib/python3.11/dist-packages (from werkzeug>=1.0.1->tensorboard<2.18,>=2.17->tensorflow) (3.0.2)\n",
            "Requirement already satisfied: markdown-it-py>=2.2.0 in /usr/local/lib/python3.11/dist-packages (from rich->keras>=3.2.0->tensorflow) (3.0.0)\n",
            "Requirement already satisfied: pygments<3.0.0,>=2.13.0 in /usr/local/lib/python3.11/dist-packages (from rich->keras>=3.2.0->tensorflow) (2.18.0)\n",
            "Requirement already satisfied: mdurl~=0.1 in /usr/local/lib/python3.11/dist-packages (from markdown-it-py>=2.2.0->rich->keras>=3.2.0->tensorflow) (0.1.2)\n"
          ]
        }
      ],
      "source": [
        "pip install numpy h5py tensorflow"
      ]
    },
    {
      "cell_type": "code",
      "source": [
        "import numpy as np\n",
        "import h5py\n",
        "from tensorflow.keras.datasets import mnist\n",
        "\n",
        "# Step 1: Load the MNIST dataset\n",
        "(x_train, y_train), (x_test, y_test) = mnist.load_data()\n",
        "\n",
        "# Step 2: Normalize the pixel values (scale to [0, 1])\n",
        "x_train = x_train.astype('float32') / 255.0\n",
        "x_test = x_test.astype('float32') / 255.0\n",
        "\n",
        "# Step 3: Reshape data to add a channel dimension (optional, for CNNs)\n",
        "x_train = np.expand_dims(x_train, axis=-1)  # Shape: (60000, 28, 28, 1)\n",
        "x_test = np.expand_dims(x_test, axis=-1)    # Shape: (10000, 28, 28, 1)\n",
        "\n",
        "# Step 4: Save data to an HDF5 file\n",
        "with h5py.File('mnist_sign_digits.h5', 'w') as h5f:\n",
        "    h5f.create_dataset('x_train', data=x_train)\n",
        "    h5f.create_dataset('y_train', data=y_train)\n",
        "    h5f.create_dataset('x_test', data=x_test)\n",
        "    h5f.create_dataset('y_test', data=y_test)\n",
        "\n",
        "print(\"MNIST dataset has been saved as mnist_sign_digits.h5\")\n"
      ],
      "metadata": {
        "colab": {
          "base_uri": "https://localhost:8080/"
        },
        "id": "aSehcQy9d3za",
        "outputId": "5f872e44-97d7-470c-d146-29ec98984ff1"
      },
      "execution_count": 5,
      "outputs": [
        {
          "output_type": "stream",
          "name": "stdout",
          "text": [
            "Downloading data from https://storage.googleapis.com/tensorflow/tf-keras-datasets/mnist.npz\n",
            "\u001b[1m11490434/11490434\u001b[0m \u001b[32m━━━━━━━━━━━━━━━━━━━━\u001b[0m\u001b[37m\u001b[0m \u001b[1m0s\u001b[0m 0us/step\n",
            "MNIST dataset has been saved as mnist_sign_digits.h5\n"
          ]
        }
      ]
    },
    {
      "cell_type": "code",
      "source": [
        "import math\n",
        "import scipy\n",
        "import h5py\n",
        "from PIL import Image\n",
        "import pandas as pd\n",
        "import tensorflow as tf\n",
        "from tensorflow.python.framework import ops"
      ],
      "metadata": {
        "id": "4_paTlW_eFiC"
      },
      "execution_count": 8,
      "outputs": []
    },
    {
      "cell_type": "code",
      "source": [
        "def load_dataset():\n",
        "    with h5py.File('mnist_sign_digits.h5', 'r') as h5f:\n",
        "        # Access datasets\n",
        "        train_images = h5f['x_train'][:]\n",
        "        train_labels = h5f['y_train'][:]\n",
        "        test_images = h5f['x_test'][:]\n",
        "        test_labels = h5f['y_test'][:]\n",
        "    # Print shapes to verify the data\n",
        "    print(\"Train Images shape:\", train_images.shape)\n",
        "    print(\"Train Labels shape:\", train_labels.shape)\n",
        "    print(\"Test Images shape:\", test_images.shape)\n",
        "    print(\"Test Labels shape:\", test_labels.shape)\n",
        "    return train_images, train_labels, test_images, test_labels"
      ],
      "metadata": {
        "id": "vmqsMrhKX7Wj"
      },
      "execution_count": 13,
      "outputs": []
    },
    {
      "cell_type": "code",
      "source": [
        "train_images, train_labels, test_images, test_labels = load_dataset()"
      ],
      "metadata": {
        "colab": {
          "base_uri": "https://localhost:8080/"
        },
        "id": "aWOHrHwdXqzE",
        "outputId": "81ec3dfd-e917-4e95-c355-9f37b754f90c"
      },
      "execution_count": 14,
      "outputs": [
        {
          "output_type": "stream",
          "name": "stdout",
          "text": [
            "Train Images shape: (60000, 28, 28, 1)\n",
            "Train Labels shape: (60000,)\n",
            "Test Images shape: (10000, 28, 28, 1)\n",
            "Test Labels shape: (10000,)\n"
          ]
        }
      ]
    },
    {
      "cell_type": "code",
      "source": [
        "def zero_padding(X, pad_values):\n",
        "    return np.pad(X, ((0,0), (pad_values,pad_values), (pad_values,pad_values), (0,0)), mode='constant', constant_values = (0,0))"
      ],
      "metadata": {
        "id": "FEgb71D0Y4ll"
      },
      "execution_count": 15,
      "outputs": []
    },
    {
      "cell_type": "code",
      "source": [
        "def conv_1_layer (A_prev, W_filter, b):\n",
        "    a = np.multiply(A_prev, W_filter)\n",
        "    return np.sum(a) + float(b)"
      ],
      "metadata": {
        "id": "IeEjswAMZcZd"
      },
      "execution_count": 16,
      "outputs": []
    },
    {
      "cell_type": "code",
      "source": [
        "def fwd_conv (A_prev, W, b, hparameters):\n",
        "    m, n_H_prev, n_W_prev, n_C_prev = A_prev.shape[0], A_prev.shape[1], A_prev.shape[2], A_prev.shape[3]\n",
        "    f, f, n_C_prev, n_C = W.shape[0], W.shape[1], W.shape[2], W.shape[3]\n",
        "    stride = hparameters[\"stride\"]\n",
        "    pad = hparameters[\"pad\"]\n",
        "    n_H = (int)((n_H_prev + (2 * pad) - f) / stride) + 1\n",
        "    n_W = (int)((n_W_prev + (2 * pad) - f) / stride) + 1\n",
        "    Z = np.zeros((m,n_H, n_W,n_C))\n",
        "    A_prev_pad = zero_padding(A_prev,pad)\n",
        "\n",
        "    for i in range(0,m):\n",
        "        a_prev_pad = A_prev_pad[i]\n",
        "        print(a_prev_pad.shape)\n",
        "        for h in range(0,a_prev_pad.shape[0],stride):\n",
        "            vert_start = h\n",
        "            vert_end = h + f\n",
        "\n",
        "            if (vert_end > a_prev_pad.shape[0]):\n",
        "                    break\n",
        "            for w in range(0,a_prev_pad.shape[1],stride):\n",
        "                horiz_start = w\n",
        "                horiz_end = w + f\n",
        "\n",
        "                if (horiz_end > a_prev_pad.shape[1]):\n",
        "                    break\n",
        "\n",
        "                for c in range(0,W.shape[3]):\n",
        "                    a_slice_prev = a_prev_pad[vert_start:vert_end,horiz_start:horiz_end,:]\n",
        "                    weights = np.sum(a_slice_prev * W[:,:,:,c])\n",
        "                    biases = b[0][0][0][c]\n",
        "                    Z[i, (int)(h/stride), (int)(w/stride), c] = weights + biases\n",
        "    cache = (A_prev, W, b, hparameters)\n",
        "\n",
        "  return Z, cache"
      ],
      "metadata": {
        "id": "4ORzBepUaCpj"
      },
      "execution_count": 17,
      "outputs": []
    },
    {
      "cell_type": "code",
      "source": [
        "def fwd_pool1(A_prev, hparameters, mode = \"max\"):\n",
        "    (m, n_H_prev, n_W_prev, n_C_prev) = A_prev.shape\n",
        "    f = hparameters[\"f\"]\n",
        "    stride = hparameters[\"stride\"]\n",
        "    n_H = int(1 + (n_H_prev - f) / stride)\n",
        "    n_W = int(1 + (n_W_prev - f) / stride)\n",
        "    n_C = n_C_prev\n",
        "    A = np.zeros((m, n_H, n_W, n_C))\n",
        "    for i in range(0,m):\n",
        "        for h in range(0,A_prev.shape[1],stride):\n",
        "            vert_start = h\n",
        "            vert_end = h + f\n",
        "            if (vert_end > A_prev.shape[1]):\n",
        "                break\n",
        "\n",
        "            for w in range(0,A_prev.shape[2],stride):\n",
        "                horiz_start = w\n",
        "                horiz_end = w + f\n",
        "\n",
        "                if (horiz_end > A_prev.shape[2]):\n",
        "                    break\n",
        "\n",
        "                for c in range (0,A.shape[3]):\n",
        "\n",
        "\n",
        "                    a_prev_slice = A_prev[i,vert_start:vert_end,horiz_start:horiz_end,c]\n",
        "\n",
        "                    if mode == \"max\":\n",
        "                        A[i, (int)(h/stride), (int)(w/stride), c] = np.max(a_prev_slice)\n",
        "                    elif mode == \"average\":\n",
        "                        A[i, (int)(h/stride), (int)(w/stride), c] = np.mean(a_prev_slice)\n",
        "    cache = (A_prev, hparameters)\n",
        "    return A, cache"
      ],
      "metadata": {
        "id": "KVhVWszKasjr"
      },
      "execution_count": 19,
      "outputs": []
    },
    {
      "cell_type": "code",
      "source": [
        "X_train = train_images/255.\n",
        "X_test = test_images/255.\n",
        "\n",
        "# Reshape\n",
        "Y_train = train_labels.T\n",
        "Y_test = test_labels.T\n",
        "\n",
        "print (\"number of training examples = \" + str(X_train.shape[0]))\n",
        "print (\"number of test examples = \" + str(X_test.shape[0]))\n",
        "print (\"X_train shape: \" + str(X_train.shape))\n",
        "print (\"Y_train shape: \" + str(Y_train.shape))\n",
        "print (\"X_test shape: \" + str(X_test.shape))\n",
        "print (\"Y_test shape: \" + str(Y_test.shape))"
      ],
      "metadata": {
        "colab": {
          "base_uri": "https://localhost:8080/"
        },
        "id": "GoayxmwGa_5S",
        "outputId": "b3acbc97-7028-40d7-a704-6d9e8a722239"
      },
      "execution_count": 22,
      "outputs": [
        {
          "output_type": "stream",
          "name": "stdout",
          "text": [
            "number of training examples = 60000\n",
            "number of test examples = 10000\n",
            "X_train shape: (60000, 28, 28, 1)\n",
            "Y_train shape: (60000,)\n",
            "X_test shape: (10000, 28, 28, 1)\n",
            "Y_test shape: (10000,)\n"
          ]
        }
      ]
    },
    {
      "cell_type": "code",
      "source": [
        "import matplotlib.pyplot as plt\n",
        "plt.imshow(X_train[0], cmap='gray')  # Use 'gray' colormap since MNIST is grayscale\n",
        "plt.title(f\"Label: {Y_train[0]}\")\n",
        "plt.axis('off')  # Hide axes for better visualization\n",
        "plt.show()"
      ],
      "metadata": {
        "colab": {
          "base_uri": "https://localhost:8080/",
          "height": 428
        },
        "id": "u0Pon-MBb5oV",
        "outputId": "04677655-e1ab-425f-c0a9-ba14c51b8b1b"
      },
      "execution_count": 25,
      "outputs": [
        {
          "output_type": "display_data",
          "data": {
            "text/plain": [
              "<Figure size 640x480 with 1 Axes>"
            ],
            "image/png": "[encoded data removed]"
          },
          "metadata": {}
        }
      ]
    },
    {
      "cell_type": "code",
      "source": [],
      "metadata": {
        "id": "PJWoq0pSgoIe"
      },
      "execution_count": null,
      "outputs": []
    }
  ]
}