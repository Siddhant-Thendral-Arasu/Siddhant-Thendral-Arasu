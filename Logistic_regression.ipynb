{
  "cells": [
    {
      "cell_type": "markdown",
      "metadata": {
        "id": "view-in-github",
        "colab_type": "text"
      },
      "source": [
        "<a href=\"https://colab.research.google.com/github/Siddhant-Thendral-Arasu/Siddhant-Thendral-Arasu/blob/logistic_regression/Logistic_regression.ipynb\" target=\"_parent\"><img src=\"https://colab.research.google.com/assets/colab-badge.svg\" alt=\"Open In Colab\"/></a>"
      ]
    },
    {
      "cell_type": "markdown",
      "id": "9258c725-b8f6-4ce9-94ca-4dec2ace54f2",
      "metadata": {
        "id": "9258c725-b8f6-4ce9-94ca-4dec2ace54f2"
      },
      "source": [
        "cat/not-a-cat classifier using logistic regression, Kaggle dataset, fwd / bkwrd prop, no optimizations, no Keras / Pytorch"
      ]
    },
    {
      "cell_type": "code",
      "execution_count": null,
      "id": "d8e9a5b9-5084-4744-a205-c16b15864901",
      "metadata": {
        "id": "d8e9a5b9-5084-4744-a205-c16b15864901"
      },
      "outputs": [],
      "source": [
        "import time\n",
        "import numpy as np\n",
        "import h5py\n",
        "#import matplotlib.pyplot as plt\n",
        "import scipy\n",
        "from PIL import Image\n",
        "from scipy import ndimage\n",
        "import copy"
      ]
    },
    {
      "cell_type": "code",
      "execution_count": null,
      "id": "17553f89-4bcb-45f7-bc21-ab2f14d5d3a2",
      "metadata": {
        "id": "17553f89-4bcb-45f7-bc21-ab2f14d5d3a2"
      },
      "outputs": [],
      "source": [
        "def data():\n",
        "    train_dataset = h5py.File('C:\\\\Users\\\\Siddhant\\\\Documents\\\\Python\\\\Project1\\\\dataset_training.h5', \"r\")\n",
        "    train_features = np.array(train_dataset[\"images\"][:])\n",
        "    train_labels = np.array(train_dataset[\"labels\"][:])\n",
        "\n",
        "    test_dataset = h5py.File('C:\\\\Users\\\\Siddhant\\\\Documents\\\\Python\\\\Project1\\\\dataset_test.h5', \"r\")\n",
        "    test_features = np.array(test_dataset[\"images\"][:])\n",
        "    test_labels = np.array(test_dataset[\"labels\"][:])\n",
        "\n",
        "    train_labels = train_labels.reshape((1, train_labels.shape[0]))\n",
        "    test_labels = test_labels.reshape((1, test_labels.shape[0]))\n",
        "\n",
        "    return train_features, train_labels, test_features, test_labels\n"
      ]
    },
    {
      "cell_type": "code",
      "execution_count": null,
      "id": "22e39657-c7e6-44f0-8f50-2467ff190ec1",
      "metadata": {
        "id": "22e39657-c7e6-44f0-8f50-2467ff190ec1"
      },
      "outputs": [],
      "source": [
        "train_features, train_labels, test_features, test_labels = data()"
      ]
    },
    {
      "cell_type": "code",
      "execution_count": null,
      "id": "5b2e5306-6716-4d6b-aedb-ce4514c011df",
      "metadata": {
        "id": "5b2e5306-6716-4d6b-aedb-ce4514c011df"
      },
      "outputs": [],
      "source": [
        "m_train = train_features.shape[0]\n",
        "num_px = train_features.shape[1]\n",
        "m_test = test_features.shape[0]"
      ]
    },
    {
      "cell_type": "code",
      "execution_count": null,
      "id": "731df2c8-9fb6-4196-a6ec-f38c98b037b1",
      "metadata": {
        "id": "731df2c8-9fb6-4196-a6ec-f38c98b037b1"
      },
      "outputs": [],
      "source": [
        "train_features_flatten = train_features.reshape(train_features.shape[0], -1).T\n",
        "test_features_flatten = test_features.reshape(test_features.shape[0], -1).T\n",
        "train_features = train_features_flatten/255.\n",
        "test_features = test_features_flatten/255."
      ]
    },
    {
      "cell_type": "code",
      "execution_count": null,
      "id": "e658b731-709b-40f4-a2f9-be6e17b0eb88",
      "metadata": {
        "id": "e658b731-709b-40f4-a2f9-be6e17b0eb88"
      },
      "outputs": [],
      "source": [
        "def sig(z):\n",
        "    s = 1 / (1 + np.exp(-z))\n",
        "    return s"
      ]
    },
    {
      "cell_type": "code",
      "execution_count": null,
      "id": "d62c0212-1972-48a0-9a4f-80b675a1b86b",
      "metadata": {
        "id": "d62c0212-1972-48a0-9a4f-80b675a1b86b"
      },
      "outputs": [],
      "source": [
        "def init_params(weight_size):\n",
        "    w = np.zeros((weight_size,1))\n",
        "    b = 0.0\n",
        "\n",
        "    return w,b"
      ]
    },
    {
      "cell_type": "code",
      "execution_count": null,
      "id": "625b8fcb-b198-4c5d-80a7-515837654a21",
      "metadata": {
        "id": "625b8fcb-b198-4c5d-80a7-515837654a21"
      },
      "outputs": [],
      "source": [
        "def fwd(weight, bias, X, Y):\n",
        "    m = X.shape[1]\n",
        "    Z = np.dot (weight.T, X) + bias\n",
        "    A = sig(Z)\n",
        "    cost = -np.sum(Y * np.log(A) + (1 - Y) * np.log(1 - A)) / m\n",
        "    dw = np.dot(X, (A - Y).T)/m\n",
        "    db = np.sum((A - Y))/m\n",
        "    cost = np.squeeze(np.array(cost))\n",
        "    gradients = {\"dw\": dw,\n",
        "             \"db\": db}\n",
        "    return gradients, cost"
      ]
    },
    {
      "cell_type": "code",
      "execution_count": null,
      "id": "e3722862-62ee-4979-89a0-9251efabfcbc",
      "metadata": {
        "id": "e3722862-62ee-4979-89a0-9251efabfcbc"
      },
      "outputs": [],
      "source": [
        "def update_params(weight, bias, X, Y, num_iterations=100, learning_rate=0.009):\n",
        "    w = copy.deepcopy(weight)\n",
        "    b = copy.deepcopy(bias)\n",
        "    costs = []\n",
        "    for i in range(num_iterations):\n",
        "        gradients, cost = fwd(w,b,X,Y)\n",
        "        dw = gradients[\"dw\"]\n",
        "        db = gradients[\"db\"]\n",
        "        w = w - learning_rate * dw\n",
        "        b = b - learning_rate * db\n",
        "        if i % 100 == 0:\n",
        "            costs.append(cost)\n",
        "            print (\"Cost after iteration %i: %f\" %(i, cost))\n",
        "\n",
        "    params = {\"w\": w,\n",
        "          \"b\": b}\n",
        "    gradients = {\"dw\": dw,\n",
        "         \"db\": db}\n",
        "\n",
        "    return params, gradients, costs"
      ]
    },
    {
      "cell_type": "code",
      "execution_count": null,
      "id": "5cafecf8-ef45-4070-ac54-3c8a3d86438f",
      "metadata": {
        "id": "5cafecf8-ef45-4070-ac54-3c8a3d86438f"
      },
      "outputs": [],
      "source": [
        "def model(train_features, train_labels, test_features, test_labels, num_iterations=2000, learning_rate=0.5):\n",
        "    print(train_features.shape)\n",
        "    print(train_labels.shape)\n",
        "    print(test_features.shape)\n",
        "    print(test_labels.shape)\n",
        "    w,b = init_params(train_features.shape[0])\n",
        "    print(w.shape)\n",
        "    params, grads, costs = update_params(w,b,train_features,train_labels,num_iterations,learning_rate)\n",
        "    w = params[\"w\"]\n",
        "    b = params[\"b\"]\n",
        "\n",
        "    d = {\"costs\": costs,\n",
        "         \"w\" : w,\n",
        "         \"b\" : b,\n",
        "         \"learning_rate\" : learning_rate,\n",
        "         \"num_iterations\": num_iterations}\n",
        "\n",
        "    return d"
      ]
    },
    {
      "cell_type": "code",
      "execution_count": null,
      "id": "6c95c9a1-7e68-4fcd-b5eb-4988237245d2",
      "metadata": {
        "id": "6c95c9a1-7e68-4fcd-b5eb-4988237245d2",
        "outputId": "5f6f034d-85b2-4897-80ba-5fa1974ea972"
      },
      "outputs": [
        {
          "name": "stdout",
          "output_type": "stream",
          "text": [
            "(12288, 8005)\n",
            "(1, 8005)\n",
            "(12288, 2023)\n",
            "(1, 2023)\n",
            "(12288, 1)\n",
            "Cost after iteration 0: 0.693147\n",
            "Cost after iteration 100: 0.683956\n",
            "Cost after iteration 200: 0.679154\n",
            "Cost after iteration 300: 0.675772\n",
            "Cost after iteration 400: 0.673146\n",
            "Cost after iteration 500: 0.670989\n",
            "Cost after iteration 600: 0.669152\n",
            "Cost after iteration 700: 0.667545\n",
            "Cost after iteration 800: 0.666115\n",
            "Cost after iteration 900: 0.664822\n"
          ]
        }
      ],
      "source": [
        "lr_model = model(train_features, train_labels, test_features, test_labels, 1000, 0.0007)"
      ]
    },
    {
      "cell_type": "code",
      "execution_count": null,
      "id": "4af480b4-8366-4447-b56e-a6d48460e3bc",
      "metadata": {
        "id": "4af480b4-8366-4447-b56e-a6d48460e3bc"
      },
      "outputs": [],
      "source": []
    },
    {
      "cell_type": "code",
      "execution_count": null,
      "id": "93d70136-bbc5-4d6b-826f-6c6518454fc1",
      "metadata": {
        "id": "93d70136-bbc5-4d6b-826f-6c6518454fc1"
      },
      "outputs": [],
      "source": []
    },
    {
      "cell_type": "code",
      "execution_count": null,
      "id": "960db70d-631d-47d0-a731-fbbf4c4dc086",
      "metadata": {
        "id": "960db70d-631d-47d0-a731-fbbf4c4dc086"
      },
      "outputs": [],
      "source": []
    }
  ],
  "metadata": {
    "kernelspec": {
      "display_name": "Python 3 (ipykernel)",
      "language": "python",
      "name": "python3"
    },
    "language_info": {
      "codemirror_mode": {
        "name": "ipython",
        "version": 3
      },
      "file_extension": ".py",
      "mimetype": "text/x-python",
      "name": "python",
      "nbconvert_exporter": "python",
      "pygments_lexer": "ipython3",
      "version": "3.9.10"
    },
    "colab": {
      "provenance": [],
      "include_colab_link": true
    }
  },
  "nbformat": 4,
  "nbformat_minor": 5
}
