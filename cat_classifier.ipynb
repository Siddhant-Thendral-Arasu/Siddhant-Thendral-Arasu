{
  "cells": [
    {
      "cell_type": "markdown",
      "metadata": {
        "id": "view-in-github",
        "colab_type": "text"
      },
      "source": [
        "<a href=\"https://colab.research.google.com/github/Siddhant-Thendral-Arasu/Siddhant-Thendral-Arasu/blob/cat_classification/cat_classifier.ipynb\" target=\"_parent\"><img src=\"https://colab.research.google.com/assets/colab-badge.svg\" alt=\"Open In Colab\"/></a>"
      ]
    },
    {
      "cell_type": "markdown",
      "id": "9258c725-b8f6-4ce9-94ca-4dec2ace54f2",
      "metadata": {
        "id": "9258c725-b8f6-4ce9-94ca-4dec2ace54f2"
      },
      "source": [
        "cat/not-a-cat classifier using deep neural network, 2 layers, Kaggle dataset, fwd / bkwrd prop, no optimizations, no Keras / Pytorch"
      ]
    },
    {
      "cell_type": "code",
      "execution_count": null,
      "id": "d8e9a5b9-5084-4744-a205-c16b15864901",
      "metadata": {
        "id": "d8e9a5b9-5084-4744-a205-c16b15864901"
      },
      "outputs": [],
      "source": [
        "import time\n",
        "import numpy as np\n",
        "import h5py\n",
        "#import matplotlib.pyplot as plt\n",
        "import scipy\n",
        "from PIL import Image\n",
        "from scipy import ndimage\n",
        "import copy"
      ]
    },
    {
      "cell_type": "code",
      "execution_count": null,
      "id": "e658b731-709b-40f4-a2f9-be6e17b0eb88",
      "metadata": {
        "id": "e658b731-709b-40f4-a2f9-be6e17b0eb88"
      },
      "outputs": [],
      "source": [
        "def sig(Z):\n",
        "    A = 1/(1+np.exp(-Z))\n",
        "    cache = Z\n",
        "\n",
        "    return A, cache"
      ]
    },
    {
      "cell_type": "code",
      "execution_count": null,
      "id": "6c95c9a1-7e68-4fcd-b5eb-4988237245d2",
      "metadata": {
        "id": "6c95c9a1-7e68-4fcd-b5eb-4988237245d2"
      },
      "outputs": [],
      "source": [
        "def relu(Z):\n",
        "    A = np.maximum(0,Z)\n",
        "    cache = Z\n",
        "    return A, cache"
      ]
    },
    {
      "cell_type": "code",
      "execution_count": null,
      "id": "fc1563a6-e5ed-4023-ac97-f0fec75a5332",
      "metadata": {
        "id": "fc1563a6-e5ed-4023-ac97-f0fec75a5332"
      },
      "outputs": [],
      "source": [
        "def relu_bkward(dA, cache):\n",
        "    Z = cache\n",
        "    dZ = np.array(dA, copy=True)\n",
        "    dZ[Z <= 0] = 0\n",
        "    return dZ"
      ]
    },
    {
      "cell_type": "code",
      "execution_count": null,
      "id": "f4dd95e3-148a-497f-b834-6e7709a48a0a",
      "metadata": {
        "id": "f4dd95e3-148a-497f-b834-6e7709a48a0a"
      },
      "outputs": [],
      "source": [
        "def sig_bkward(dA, cache):\n",
        "    Z = cache\n",
        "    s = 1/(1+np.exp(-Z))\n",
        "    dZ = dA * s * (1-s)\n",
        "    return dZ"
      ]
    },
    {
      "cell_type": "code",
      "execution_count": null,
      "id": "17553f89-4bcb-45f7-bc21-ab2f14d5d3a2",
      "metadata": {
        "id": "17553f89-4bcb-45f7-bc21-ab2f14d5d3a2"
      },
      "outputs": [],
      "source": [
        "def data():\n",
        "    train_dataset = h5py.File('C:\\\\Users\\\\t.arasu\\\\Documents\\\\Python\\\\Project1\\\\dataset_training.h5', \"r\")\n",
        "    train_features = np.array(train_dataset[\"images\"][:])\n",
        "    train_labels = np.array(train_dataset[\"labels\"][:])\n",
        "\n",
        "    test_dataset = h5py.File('C:\\\\Users\\\\t.arasu\\\\Documents\\\\Python\\\\Project1\\\\dataset_test.h5', \"r\")\n",
        "    test_features = np.array(test_dataset[\"images\"][:])\n",
        "    test_labels = np.array(test_dataset[\"labels\"][:])\n",
        "\n",
        "    train_labels = train_labels.reshape((1, train_labels.shape[0]))\n",
        "    test_labels = test_labels.reshape((1, test_labels.shape[0]))\n",
        "\n",
        "    return train_features, train_labels, test_features, test_labels\n"
      ]
    },
    {
      "cell_type": "code",
      "execution_count": null,
      "id": "5e81b3b3-32ac-4e36-ac4d-2a71799239e7",
      "metadata": {
        "id": "5e81b3b3-32ac-4e36-ac4d-2a71799239e7"
      },
      "outputs": [],
      "source": [
        "x,y,a,b = data()"
      ]
    },
    {
      "cell_type": "code",
      "execution_count": null,
      "id": "d62c0212-1972-48a0-9a4f-80b675a1b86b",
      "metadata": {
        "id": "d62c0212-1972-48a0-9a4f-80b675a1b86b"
      },
      "outputs": [],
      "source": [
        "def init_params(n_x, n_h, n_y):\n",
        "\n",
        "    W1 = np.random.randn(n_h,n_x) * 0.01\n",
        "    b1 = np.zeros((n_h,1),dtype='float')\n",
        "    W2 = np.random.randn(n_y,n_h) * 0.01\n",
        "    b2 = np.zeros((n_y,1),dtype='float')\n",
        "\n",
        "    params = {\"W1\": W1,\n",
        "                  \"b1\": b1,\n",
        "                  \"W2\": W2,\n",
        "                  \"b2\": b2}\n",
        "\n",
        "    return params"
      ]
    },
    {
      "cell_type": "code",
      "execution_count": null,
      "id": "625b8fcb-b198-4c5d-80a7-515837654a21",
      "metadata": {
        "id": "625b8fcb-b198-4c5d-80a7-515837654a21"
      },
      "outputs": [],
      "source": [
        "def fwd(A_prev, W, b, activation):\n",
        "\n",
        "    Z, l_cache = np.dot(W, A_prev) + b , (A_prev, W, b)\n",
        "\n",
        "    if activation == \"sig\":\n",
        "        A, a_cache = sig(Z)\n",
        "\n",
        "    elif activation == \"relu\":\n",
        "        A, a_cache = relu(Z)\n",
        "\n",
        "    cache = (l_cache, a_cache)\n",
        "\n",
        "    return A, cache"
      ]
    },
    {
      "cell_type": "code",
      "execution_count": null,
      "id": "4f296318-d9aa-4b1d-9858-875ab4324fca",
      "metadata": {
        "id": "4f296318-d9aa-4b1d-9858-875ab4324fca"
      },
      "outputs": [],
      "source": [
        "def cost_(AL, Y):\n",
        "\n",
        "    m = Y.shape[1]\n",
        "    cost = -( np.dot(Y, (np.log(AL)).T) + np.dot( (np.ones((Y.shape[0],Y.shape[1]), dtype=int) - Y.astype(int)), (np.log(np.ones((Y.shape[0],Y.shape[1]), dtype=int) - AL)).T))/m\n",
        "    cost = np.squeeze(cost)\n",
        "\n",
        "    return cost"
      ]
    },
    {
      "cell_type": "code",
      "execution_count": null,
      "id": "18a676bc-3745-47a2-bc7f-1586401ebc1f",
      "metadata": {
        "id": "18a676bc-3745-47a2-bc7f-1586401ebc1f"
      },
      "outputs": [],
      "source": [
        "def z_bkprop (dZ, cache):\n",
        "\n",
        "    A_prev, W, b = cache\n",
        "    m = A_prev.shape[1]\n",
        "\n",
        "    dW = np.dot(dZ, A_prev.T) / m\n",
        "    db = np.sum(dZ, axis=1, keepdims=True) / m\n",
        "    dA_prev = np.dot(W.T,dZ)\n",
        "\n",
        "    return dA_prev, dW, db"
      ]
    },
    {
      "cell_type": "code",
      "execution_count": null,
      "id": "b7c275cb-c931-427f-94a9-27ca3317c369",
      "metadata": {
        "id": "b7c275cb-c931-427f-94a9-27ca3317c369"
      },
      "outputs": [],
      "source": [
        "def a_bkprop (dA, cache, activation):\n",
        "    l_cache, a_cache = cache\n",
        "\n",
        "    if activation == \"relu\":\n",
        "        dZ = relu_bkward(dA,a_cache)\n",
        "\n",
        "    elif activation == \"sig\":\n",
        "        dZ = sig_bkward(dA, a_cache)\n",
        "\n",
        "    dA_prev, dW, db = z_bkprop(dZ, l_cache)\n",
        "\n",
        "    return dA_prev, dW, db"
      ]
    },
    {
      "cell_type": "code",
      "execution_count": null,
      "id": "e3722862-62ee-4979-89a0-9251efabfcbc",
      "metadata": {
        "id": "e3722862-62ee-4979-89a0-9251efabfcbc"
      },
      "outputs": [],
      "source": [
        "def update_params(params, gradients, learning_rate):\n",
        "    params = copy.deepcopy(params)\n",
        "    L = 2\n",
        "\n",
        "    for l in range(L):\n",
        "        params[\"W\" + str(l+1)] = params[\"W\" + str(l+1)] - learning_rate * gradients[\"dW\" + str(l + 1)]\n",
        "        params[\"b\" + str(l+1)] = params[\"b\" + str(l+1)] - learning_rate * gradients[\"db\" + str(l + 1)]\n",
        "\n",
        "    return params"
      ]
    },
    {
      "cell_type": "code",
      "execution_count": null,
      "id": "22e39657-c7e6-44f0-8f50-2467ff190ec1",
      "metadata": {
        "id": "22e39657-c7e6-44f0-8f50-2467ff190ec1"
      },
      "outputs": [],
      "source": [
        "train_features, train_labels, test_features, test_labels = data()"
      ]
    },
    {
      "cell_type": "code",
      "execution_count": null,
      "id": "5b2e5306-6716-4d6b-aedb-ce4514c011df",
      "metadata": {
        "id": "5b2e5306-6716-4d6b-aedb-ce4514c011df",
        "outputId": "c7804151-974a-4804-a90d-18675b027f04"
      },
      "outputs": [
        {
          "name": "stdout",
          "output_type": "stream",
          "text": [
            "(8005, 64, 64, 3)\n"
          ]
        }
      ],
      "source": [
        "m_train = train_features.shape[0]\n",
        "num_px = train_features.shape[1]\n",
        "m_test = test_features.shape[0]\n",
        "print(train_features.shape)"
      ]
    },
    {
      "cell_type": "code",
      "execution_count": null,
      "id": "731df2c8-9fb6-4196-a6ec-f38c98b037b1",
      "metadata": {
        "id": "731df2c8-9fb6-4196-a6ec-f38c98b037b1"
      },
      "outputs": [],
      "source": [
        "train_features_flatten = train_features.reshape(train_features.shape[0], -1).T\n",
        "test_features_flatten = test_features.reshape(test_features.shape[0], -1).T\n",
        "train_features = train_features_flatten/255.\n",
        "test_features = test_features_flatten/255."
      ]
    },
    {
      "cell_type": "code",
      "execution_count": null,
      "id": "5cafecf8-ef45-4070-ac54-3c8a3d86438f",
      "metadata": {
        "id": "5cafecf8-ef45-4070-ac54-3c8a3d86438f"
      },
      "outputs": [],
      "source": [
        "def model(X, Y, layers_dims, learning_rate = 0.075, num_iterations = 2500):\n",
        "    gradients = {}\n",
        "    costs = []\n",
        "    m = X.shape[1]\n",
        "    (n_x, n_h, n_y) = layers_dims\n",
        "\n",
        "    params = init_params(n_x, n_h, n_y)\n",
        "    print(len(params))\n",
        "\n",
        "    W1 = params[\"W1\"]\n",
        "    b1 = params[\"b1\"]\n",
        "    W2 = params[\"W2\"]\n",
        "    b2 = params[\"b2\"]\n",
        "\n",
        "    for i in range(0, num_iterations):\n",
        "\n",
        "        A1, cache1 = fwd(X, W1, b1, \"relu\")\n",
        "        A2, cache2 = fwd(A1, W2, b2, \"sig\")\n",
        "        cost = cost_(A2, Y)\n",
        "        dA2 = - (np.divide(Y, A2) - np.divide(1 - Y, 1 - A2))\n",
        "        dA1, dW2, db2 = a_bkprop (dA2, cache2, \"sig\")\n",
        "        dA0, dW1, db1 = a_bkprop (dA1, cache1, \"relu\")\n",
        "\n",
        "        gradients['dW1'] = dW1\n",
        "        gradients['db1'] = db1\n",
        "        gradients['dW2'] = dW2\n",
        "        gradients['db2'] = db2\n",
        "        params = update_params(params, gradients, learning_rate)\n",
        "\n",
        "        W1 = params[\"W1\"]\n",
        "        b1 = params[\"b1\"]\n",
        "        W2 = params[\"W2\"]\n",
        "        b2 = params[\"b2\"]\n",
        "\n",
        "        # Print the cost every 100 iterations\n",
        "        if i % 100 == 0 or i == num_iterations - 1:\n",
        "            print(\"Cost after iteration {}: {}\".format(i, np.squeeze(cost)))\n",
        "        if i % 100 == 0 or i == num_iterations:\n",
        "            costs.append(cost)\n",
        "\n",
        "    return params, costs"
      ]
    },
    {
      "cell_type": "code",
      "execution_count": null,
      "id": "f18160ba-bb52-4300-a549-7c86b58f9ed4",
      "metadata": {
        "id": "f18160ba-bb52-4300-a549-7c86b58f9ed4",
        "outputId": "36d66a5a-558c-4f53-e064-60f864fba007"
      },
      "outputs": [
        {
          "name": "stdout",
          "output_type": "stream",
          "text": [
            "(12288, 8005)\n",
            "(1, 8005)\n",
            "8005\n",
            "64\n",
            "2023\n"
          ]
        }
      ],
      "source": [
        "print(train_features.shape)\n",
        "print(train_labels.shape)\n",
        "print(m_train)\n",
        "print(num_px)\n",
        "print(m_test)"
      ]
    },
    {
      "cell_type": "code",
      "execution_count": null,
      "id": "5aab7cae-fa33-4d41-8abb-bbc8ba8eed18",
      "metadata": {
        "id": "5aab7cae-fa33-4d41-8abb-bbc8ba8eed18"
      },
      "outputs": [],
      "source": [
        "n_x = 12288\n",
        "n_h = 7\n",
        "n_y = 1\n",
        "layers_dims = (n_x, n_h, n_y)\n",
        "learning_rate = 0.0075"
      ]
    },
    {
      "cell_type": "code",
      "execution_count": null,
      "id": "ba9bdd87-8f0b-46a1-aec4-8d922a805c20",
      "metadata": {
        "id": "ba9bdd87-8f0b-46a1-aec4-8d922a805c20",
        "outputId": "d4ca8c7c-c923-4941-d7cf-32942e47766d"
      },
      "outputs": [
        {
          "name": "stdout",
          "output_type": "stream",
          "text": [
            "4\n",
            "Cost after iteration 0: 0.6931020479889488\n",
            "Cost after iteration 100: 0.6801787829473863\n",
            "Cost after iteration 200: 0.6709876704545872\n",
            "Cost after iteration 300: 0.6631173477796196\n",
            "Cost after iteration 400: 0.6524377993850805\n",
            "Cost after iteration 500: 0.6455212992207442\n",
            "Cost after iteration 600: 0.6246740084958236\n",
            "Cost after iteration 700: 0.6245096323137374\n",
            "Cost after iteration 800: 0.6224016131337639\n",
            "Cost after iteration 900: 0.6471276564746662\n",
            "Cost after iteration 1000: 0.6306100873170324\n",
            "Cost after iteration 1100: 0.6277613917744119\n",
            "Cost after iteration 1200: 0.6875004587903242\n",
            "Cost after iteration 1300: 0.6116781218870685\n",
            "Cost after iteration 1400: 0.5894670643565437\n",
            "Cost after iteration 1500: 0.6007924570974479\n",
            "Cost after iteration 1600: 0.6016368258214502\n",
            "Cost after iteration 1700: 0.6311746339167251\n",
            "Cost after iteration 1800: 0.5958179035170169\n",
            "Cost after iteration 1900: 0.5822617368389255\n",
            "Cost after iteration 2000: 0.6463218521364562\n",
            "Cost after iteration 2100: 0.5819810212983452\n",
            "Cost after iteration 2200: 0.6367540965812507\n",
            "Cost after iteration 2300: 0.5690841405974977\n",
            "Cost after iteration 2400: 0.6286308058869299\n",
            "Cost after iteration 2499: 0.6325088606512792\n"
          ]
        }
      ],
      "source": [
        "params, costs = model(train_features, train_labels, layers_dims = (n_x, n_h, n_y))"
      ]
    },
    {
      "cell_type": "code",
      "execution_count": null,
      "id": "4af480b4-8366-4447-b56e-a6d48460e3bc",
      "metadata": {
        "id": "4af480b4-8366-4447-b56e-a6d48460e3bc"
      },
      "outputs": [],
      "source": []
    }
  ],
  "metadata": {
    "kernelspec": {
      "display_name": "Python 3 (ipykernel)",
      "language": "python",
      "name": "python3"
    },
    "language_info": {
      "codemirror_mode": {
        "name": "ipython",
        "version": 3
      },
      "file_extension": ".py",
      "mimetype": "text/x-python",
      "name": "python",
      "nbconvert_exporter": "python",
      "pygments_lexer": "ipython3",
      "version": "3.9.10"
    },
    "colab": {
      "provenance": [],
      "include_colab_link": true
    }
  },
  "nbformat": 4,
  "nbformat_minor": 5
}